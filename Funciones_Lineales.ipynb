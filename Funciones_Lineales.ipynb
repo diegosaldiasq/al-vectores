{
  "nbformat": 4,
  "nbformat_minor": 0,
  "metadata": {
    "kernelspec": {
      "display_name": "Python 3",
      "language": "python",
      "name": "python3"
    },
    "language_info": {
      "codemirror_mode": {
        "name": "ipython",
        "version": 3
      },
      "file_extension": ".py",
      "mimetype": "text/x-python",
      "name": "python",
      "nbconvert_exporter": "python",
      "pygments_lexer": "ipython3",
      "version": "3.7.3"
    },
    "colab": {
      "name": "Funciones_Lineales.ipynb",
      "provenance": [],
      "include_colab_link": true
    }
  },
  "cells": [
    {
      "cell_type": "markdown",
      "metadata": {
        "id": "view-in-github",
        "colab_type": "text"
      },
      "source": [
        "<a href=\"https://colab.research.google.com/github/diegosaldiasq/al-vectores/blob/main/Funciones_Lineales.ipynb\" target=\"_parent\"><img src=\"https://colab.research.google.com/assets/colab-badge.svg\" alt=\"Open In Colab\"/></a>"
      ]
    },
    {
      "cell_type": "markdown",
      "metadata": {
        "id": "8jt4P26y-ye-"
      },
      "source": [
        "# 5. Funciones Lineales"
      ]
    },
    {
      "cell_type": "markdown",
      "metadata": {
        "id": "YG3U4-A_-yfG"
      },
      "source": [
        "La notación $f: \\mathbb{R}^{n}\\to \\mathbb{R}$ significa que $f$ es una función con **dominio** en $\\mathbb{R}^{n}$ e imagen en $\\mathbb{R}$, es decir, que toma un $n$-vector y lo convierte en un escalar.  \n",
        "La función puede denotarse como $f\\left(\\mathbf{x}\\right)= f\\left(x_{0},x_{1},\\dots,x_{n-1}\\right)$ donde $\\mathbf{x}\\in \\mathbb{R}^{n}$ y $x_{i}$ son las entradas del vector.  \n",
        "\n",
        "Es necesario enfatizar que $f(\\mathbf{x})$ es un escalar. "
      ]
    },
    {
      "cell_type": "markdown",
      "metadata": {
        "id": "WbDtrq6e-yfG"
      },
      "source": [
        "Para describir una función $f: \\mathbb{R}^{n} \\to \\mathbb{R}$ tenemos que especificar el cual es el valor para cualquier vector $\\mathbf{x}\\in\\mathbb{R}^{n}$. Por ejemplo, sea $f: \\mathbb{R}^{4} \\to \\mathbb{R}$ definida por\n",
        "$$\n",
        "f(\\mathbf{x}) = x_{0} + x_{1} + x_{2} + x_{3}\n",
        "$$"
      ]
    },
    {
      "cell_type": "markdown",
      "metadata": {
        "id": "d5xZwYOQ-yfH"
      },
      "source": [
        "Así pues el valor de cualquier $4$-vector queda bien definido, por ejemplo:\n",
        "\n",
        "* $f(\\mathbf{0}) = 0 + 0+ 0+0 = 0$\n",
        "\n",
        "* $f([1\\; 0\\; 0\\; 0]) = 1+0+0+0 = 1$\n",
        "\n",
        "* $f([1\\; 1\\; 1\\; 1]) = 1+1+1+1 = 4$"
      ]
    },
    {
      "cell_type": "code",
      "metadata": {
        "id": "tik6tjSy-yfH"
      },
      "source": [
        "import numpy as np"
      ],
      "execution_count": null,
      "outputs": []
    },
    {
      "cell_type": "code",
      "metadata": {
        "id": "FLJmXVxl-yfI"
      },
      "source": [
        "def f(x):\n",
        "    return np.sum(x)"
      ],
      "execution_count": null,
      "outputs": []
    },
    {
      "cell_type": "code",
      "metadata": {
        "id": "5ILUHctQ-yfI",
        "outputId": "d7c7f375-5c02-416c-bfcc-5db0108bfb42"
      },
      "source": [
        "print('f(0) = ',f(np.array([0,0,0,0])))"
      ],
      "execution_count": null,
      "outputs": [
        {
          "output_type": "stream",
          "text": [
            "f(0) =  0\n"
          ],
          "name": "stdout"
        }
      ]
    },
    {
      "cell_type": "code",
      "metadata": {
        "id": "tgwkJKn7-yfJ",
        "outputId": "6b56b483-236c-4166-a6ee-e927ebb41b8a"
      },
      "source": [
        "print('f([1,0,0,0]) = ',f(np.array([1,0,0,0])))"
      ],
      "execution_count": null,
      "outputs": [
        {
          "output_type": "stream",
          "text": [
            "f([1,0,0,0]) =  1\n"
          ],
          "name": "stdout"
        }
      ]
    },
    {
      "cell_type": "code",
      "metadata": {
        "id": "RZcw7sVU-yfK",
        "outputId": "306acebd-a9e8-459d-cf9d-46c556483068"
      },
      "source": [
        "print('f([1,1,1,1]) = ',f(np.array([1,1,1,1])))"
      ],
      "execution_count": null,
      "outputs": [
        {
          "output_type": "stream",
          "text": [
            "f([1,1,1,1]) =  4\n"
          ],
          "name": "stdout"
        }
      ]
    },
    {
      "cell_type": "markdown",
      "metadata": {
        "id": "6jwvFZIi-yfK"
      },
      "source": [
        "Como otro ejemplo, sea $g: \\mathbb{R}^{3} \\to \\mathbb{R}$ definida por \n",
        "$$\n",
        "g(\\mathbf{x}) = x_{0}\n",
        "$$"
      ]
    },
    {
      "cell_type": "markdown",
      "metadata": {
        "id": "BKB_ltrl-yfL"
      },
      "source": [
        "Tenemos entonces:\n",
        "\n",
        "* $g(\\mathbf{0}) = 0$ \n",
        "\n",
        "* $g([0\\; 0\\; 1]) = 0$\n",
        "\n",
        "* $g([1\\; 0\\; 4]) = 1$"
      ]
    },
    {
      "cell_type": "code",
      "metadata": {
        "id": "DiXO_5cL-yfL"
      },
      "source": [
        "def g(x):\n",
        "    return x[0]"
      ],
      "execution_count": null,
      "outputs": []
    },
    {
      "cell_type": "code",
      "metadata": {
        "id": "fKiNytEH-yfL",
        "outputId": "76ae0bff-c4a6-4137-a330-30b50da4750a"
      },
      "source": [
        "print('g(0) = ',g(np.array([0,0,0])))"
      ],
      "execution_count": null,
      "outputs": [
        {
          "output_type": "stream",
          "text": [
            "g(0) =  0\n"
          ],
          "name": "stdout"
        }
      ]
    },
    {
      "cell_type": "code",
      "metadata": {
        "id": "qal__URJ-yfM",
        "outputId": "7b5df9fe-ecba-4721-9a51-589b793c0e87"
      },
      "source": [
        "print('g([0,0,1]) = ',g(np.array([0,0,1])))"
      ],
      "execution_count": null,
      "outputs": [
        {
          "output_type": "stream",
          "text": [
            "g([0,0,1]) =  0\n"
          ],
          "name": "stdout"
        }
      ]
    },
    {
      "cell_type": "code",
      "metadata": {
        "id": "PCPu5hR--yfM",
        "outputId": "82842343-035d-4801-c3c3-13f81eca6553"
      },
      "source": [
        "print('g([1,0,4]) = ',g(np.array([1,0,4])))"
      ],
      "execution_count": null,
      "outputs": [
        {
          "output_type": "stream",
          "text": [
            "g([1,0,4]) =  1\n"
          ],
          "name": "stdout"
        }
      ]
    },
    {
      "cell_type": "markdown",
      "metadata": {
        "id": "HuVIg8nY-yfN"
      },
      "source": [
        "Podemos notar que en este caso $f(\\mathbf{x})$ corresponde a la _función suma_ y $g(\\mathbf{x})$ a proyección sobre $x_{0}$."
      ]
    },
    {
      "cell_type": "markdown",
      "metadata": {
        "id": "t8VqA_Bw-yfN"
      },
      "source": [
        "## 5.1 Algunas funciones"
      ]
    },
    {
      "cell_type": "markdown",
      "metadata": {
        "id": "oZexzb8L-yfO"
      },
      "source": [
        "**Función producto interno**. Si una función tiene como aurgmentos dos $n$-vectores el dominio de la función se expresará como $\\mathbb{R}^{n}\\times\\mathbb{R}^{n}$. Por ejemplo, sea $f:\\mathbb{R}^{n}\\times\\mathbb{R}^{n} \\to \\mathbb{R}$ definida por:\n",
        "\n",
        "$$\n",
        "f(\\mathbf{a},\\mathbf{b}) = a_{0}b_{0} + a_{1}b_{1} + \\cdots + a_{n-1}b_{n-1}\n",
        "$$"
      ]
    },
    {
      "cell_type": "markdown",
      "metadata": {
        "id": "6aMBXD3P-yfP"
      },
      "source": [
        "Notemos que podemos expresar lo anterior como\n",
        "\n",
        "$$\n",
        "f(\\mathbf{a},\\mathbf{b}) = \\mathbf{a}^{T}\\mathbf{b}\n",
        "$$\n",
        "\n",
        "Esta función recibe el nombre de función producto interno. Si quisieramos dejar fijo un vector, digamos el vector $\\mathbf{a}$ podemos recurrir a la siguiente notación:\n",
        "\n",
        "$$\n",
        "f_{\\mathbf{a}}(\\mathbf{b}) = \\mathbf{a}^{T}\\mathbf{b}\n",
        "$$\n",
        "\n",
        "Esto significará que $\\mathbf{a}$ estará fijo mientras que $\\mathbf{b}$ será el que variará. "
      ]
    },
    {
      "cell_type": "markdown",
      "metadata": {
        "id": "CVci9qzr-yfP"
      },
      "source": [
        "**Superposición y linealidad.** La función producto interno satisface la siguiente propiedad:\n",
        "\n",
        "$$\n",
        "\\begin{eqnarray}\n",
        "f_\\mathbf{x}(\\alpha\\mathbf{a}+\\beta\\mathbf{b}) &=& \\mathbf{x}^{T}(\\alpha\\mathbf{a}+\\beta\\mathbf{b}) \\\\\n",
        " &=& \\mathbf{x}^{T}(\\alpha\\mathbf{a})+\\mathbf{x}^{T}(\\beta\\mathbf{b}) \\\\\n",
        " &=& \\alpha(\\mathbf{x}^{T}\\mathbf{a}) + \\beta(\\mathbf{x}^{T}\\mathbf{b}) \\\\\n",
        " &=& \\alpha f_{\\mathbf{x}}(\\mathbf{a}) + \\beta f_{\\mathbf{x}}(\\mathbf{b})\n",
        "\\end{eqnarray}\n",
        "$$\n",
        "\n",
        "Si la función $g$ cumple que $g(\\alpha\\mathbf{x}+\\beta\\mathbf{y}) = \\alpha g(\\mathbf{x})+\\beta g(\\mathbf{y})$ decimos que la función $g$ es una **función lineal.** "
      ]
    },
    {
      "cell_type": "markdown",
      "metadata": {
        "id": "l5Cv-U4i-yfP"
      },
      "source": [
        "Si $f$ es una función lineal la _linearidad_ se extiende a cualquier combinación lineal y no solamente a una combinación de dos vectores, tenemos \n",
        "\n",
        "$$\n",
        "f(\\alpha_{0}\\mathbf{x_{0}} + \\alpha_{1}\\mathbf{x_{1}} + \\alpha_{2}\\mathbf{x_{2}} + \\cdots \n",
        " + \\alpha_{n-1}\\mathbf{x_{n-1}}) = \\alpha_{0}f(\\mathbf{x_{0}}) + \\alpha_{1}f(\\mathbf{x_{1}}) + \\alpha_{2}f(\\mathbf{x_{2}}) + \\cdots + \\alpha_{n-1}f(\\mathbf{x_{n-1}})\n",
        "$$\n"
      ]
    },
    {
      "cell_type": "markdown",
      "metadata": {
        "id": "Ho37rgP2-yfP"
      },
      "source": [
        "Si una función $g:\\mathbf{R}^{n} \\to \\mathbf{R}$ es lineal sabemo que cumple $g(\\alpha\\mathbf{x}+\\beta\\mathbf{y}) = \\alpha g(\\mathbf{x})+\\beta g(\\mathbf{y})$, propiedad que llamaremos _superposición_. Ahora, la superposición puede ser separada en dos propiedades:\n",
        "\n",
        "* _Homogeneidad_. Para cualquier $n$-vector $\\mathbf{x}$ y cualquier escalar $\\alpha$ tenemos que $g(\\alpha \\mathbf{x}) = \\alpha g(\\mathbf{x})$\n",
        "\n",
        "* _Aditividad_. Para cualquier $n$-vector $\\mathbf{x}$ y $\\mathbf{y}$ tenemos que $g(\\mathbf{x}+\\mathbf{y}) = g(\\mathbf{x})+g(\\mathbf{y})$\n",
        "\n",
        "La homogeneidad nos dice que escalar el argumento es igual que escalar el valor de la función; la aditividad nos indica que sumar los argumentos es igual que sumar los valores de la función. "
      ]
    },
    {
      "cell_type": "code",
      "metadata": {
        "id": "ekIHlawh-yfQ"
      },
      "source": [
        "a = np.array([1,1,1,1])\n",
        "b = np.array([1,0,1,0])\n",
        "x,y = 1,-2"
      ],
      "execution_count": null,
      "outputs": []
    },
    {
      "cell_type": "code",
      "metadata": {
        "id": "7NGOegKK-yfQ",
        "outputId": "9a2446e2-89e2-430d-8faf-4273946b3360"
      },
      "source": [
        "print('f(x*a + y*b) = ',f(x*a + y*b))"
      ],
      "execution_count": null,
      "outputs": [
        {
          "output_type": "stream",
          "text": [
            "f(x*a + y*b) =  0\n"
          ],
          "name": "stdout"
        }
      ]
    },
    {
      "cell_type": "code",
      "metadata": {
        "id": "MPcrFhwc-yfR",
        "outputId": "172143d3-79a1-44f7-8a56-3d0ac5e6935b"
      },
      "source": [
        "print('x*f(a) + y*f(b) =',x*f(a) + y*f(b))"
      ],
      "execution_count": null,
      "outputs": [
        {
          "output_type": "stream",
          "text": [
            "x*f(a) + y*f(b) = 0\n"
          ],
          "name": "stdout"
        }
      ]
    },
    {
      "cell_type": "markdown",
      "metadata": {
        "id": "4rT44Jmr-yfR"
      },
      "source": [
        "**Representación producto interno de una función lineal.** En matemáticas las verdades, cuando son verdades, se demuestran usando argumentos principalmente lógicos. Estas verdades vienen empaquetadas en _teoremas_, _corolarios_ y _lemas_. Si no podemos demostrarlo pero creemos que es verdad lo llamamos _conjetura_. Por ejemplo, consideremos el siguiente teorema:"
      ]
    },
    {
      "cell_type": "markdown",
      "metadata": {
        "id": "U2ZVS-h9-yfR"
      },
      "source": [
        "**Teorema.** Los ángulos a ambos lados de una recta, que intersecta a otra, siempre suman $180^\\circ$ \n",
        "\n",
        "![img](fl_1.png)"
      ]
    },
    {
      "cell_type": "markdown",
      "metadata": {
        "id": "Zm58zjba-yfS"
      },
      "source": [
        "*Demostración*: Supongamos que $\\alpha + \\beta \\neq 180$ eso quiere decir que $\\alpha + \\beta > 180$ o $\\alpha + \\beta < 180$. Ahora, pensemos en la linea **f** pasa por el diámetro, es decir, corta a la mitad al círculo. \n",
        "\n",
        "![](fl_t1.png)\n",
        "\n",
        "Al pasar por el diámetro sabemos que ambos lados tenemos un ángulo de $180^\\circ$. Llamemos a ese ángulo $\\Omega=180^\\circ$. Ahora, llamemos **g** a una línea que pase por otro diámetro. \n",
        "\n",
        "![](fl_t2.png)"
      ]
    },
    {
      "cell_type": "markdown",
      "metadata": {
        "id": "zmPI4u3k-yfS"
      },
      "source": [
        "Entonces, al seccionar con **g** tenemos nuevamente los ángulos $\\alpha$ y $\\beta$ entonces tenemos que $\\alpha + \\beta = \\Omega$ pero asumimos que $\\alpha + \\beta \\neq 180^\\circ$ lo cuyal nos lleva a una contradicción $!$ por ello lo anteior debe ser cierto.  "
      ]
    },
    {
      "cell_type": "markdown",
      "metadata": {
        "id": "aZEQbSa7-yfS"
      },
      "source": [
        "**Corolario.** Cuando dos líneas se intersectan los ángulos opuestos entre ellos son iguales.\n",
        "\n",
        "![](fl_2.png)"
      ]
    },
    {
      "cell_type": "markdown",
      "metadata": {
        "id": "GQKJ2g0E-yfS"
      },
      "source": [
        "*Demostración:* Sabemos que $\\beta + \\alpha = 180^\\circ$ entonces $\\alpha = 180^\\circ - \\beta$. Por otro lado, sabemos que también $\\gamma + \\beta = 180^\\circ$ así pues $\\gamma = 180^\\circ - \\beta$. Juntando lo anteior tenemos que:\n",
        "\n",
        "$$\n",
        "\\alpha  =  180^\\circ - \\beta = \\gamma\n",
        "$$\n",
        "\n",
        "Lo mismo es posible aplicarse para $\\beta$ y $\\delta$. **QED**. "
      ]
    },
    {
      "cell_type": "markdown",
      "metadata": {
        "id": "bX57SnFX-yfT"
      },
      "source": [
        "Ya explorados los teoremas y los corolarios veamos la siguiente proposición:  \n",
        "\n",
        "**Proposición:** Una función definida como el producto punto de sus argumentos y algún vector fijo es lineal. Lo inverso es también verdadero: si una función es lineal entonces puede ser expresada como el producto interno de sus argumentos y algún vector fijo."
      ]
    },
    {
      "cell_type": "markdown",
      "metadata": {
        "id": "dwSoszbw-yfT"
      },
      "source": [
        "Ahora, sea $f$ una función escalar de $n$-vectores que además es lineal. Entonces decimos que _existe_ un $n$-vector $\\mathbf{a}$ tal que $f(\\mathbf{x}) = \\mathbf{a}^{T}\\mathbf{x}$ para cualquier $\\mathbf{x}$. A la expresión $\\mathbf{a}^{T}\\mathbf{x}$ le llamaremos *representación producto punto* de $f$. "
      ]
    },
    {
      "cell_type": "markdown",
      "metadata": {
        "id": "VptpPejc-yfT"
      },
      "source": [
        "Otra propiedad interesante es que la *representación producto punto* de $f$ como $\\mathbf{a}^{T}\\mathbf{x}$ es única. "
      ]
    },
    {
      "cell_type": "markdown",
      "metadata": {
        "id": "wD5RqRU1-yfW"
      },
      "source": [
        "$ f(\\mathbf{x}) = \\displaystyle\\sum_{i}^{n-1} x_{i}$ si n=4 esto lo podemos expresar como $f(\\mathbf{x}) = \\mathbf{a}^{T}\\mathbf{x}$ donde:\n",
        "$$\n",
        "a^T = [1,1,1,1]\n",
        "$$"
      ]
    },
    {
      "cell_type": "markdown",
      "metadata": {
        "id": "50EanFF5-yfW"
      },
      "source": [
        "**Promedio.** El promedio de una $n$-vector es definida como\n",
        "\n",
        "$$\n",
        "f(x) = (x_{0}+x_{1}+\\cdots+x_{n-1})/n\n",
        "$$\n",
        "\n",
        "Y se denota como $\\mathbf{avg}(x)$, notemos que este $\\mathbf{avg}(x) = a^{T}x$ con\n",
        "\n",
        "$$\n",
        "a^T = [1/n\\; 1/n\\; \\cdots \\; 1/n] = \\mathbf{1}/n\n",
        "$$"
      ]
    },
    {
      "cell_type": "markdown",
      "metadata": {
        "id": "AojlG_GZ-yfX"
      },
      "source": [
        "**Máximo.** Para $n$-vectores $x$ la función que nos da el máximo coeficiente de un vector es $f(x)=max\\{x_{0},x_{1},\\dots,x_{n-1}\\}$ y no es lineal. Para demostrar esto voy a suponer que es lineal y dar un contraejemplo. Si tomamos $x^T = [1,-1]$ y $y^T=[-1,1]$ con $\\alpha = 1/2$ y $\\beta = 1/2$. Entonces tenemos que:\n",
        "\n",
        "$$\n",
        "f(\\alpha x + \\beta y) = 0 \\neq \\alpha f(x) + \\beta f(y) = 1\n",
        "$$"
      ]
    },
    {
      "cell_type": "code",
      "metadata": {
        "id": "-fgnUrk7-yfY"
      },
      "source": [
        "def MAX(x):\n",
        "    return np.max(x)"
      ],
      "execution_count": null,
      "outputs": []
    },
    {
      "cell_type": "code",
      "metadata": {
        "id": "oz4KpKqY-yfY",
        "outputId": "39e75c40-5ef5-468f-c502-e5cc0a22edc3"
      },
      "source": [
        "print('MAX([1,0,2]) = ', MAX(np.array([1,0,2])))"
      ],
      "execution_count": null,
      "outputs": [
        {
          "output_type": "stream",
          "text": [
            "MAX([1,0,2]) =  2\n"
          ],
          "name": "stdout"
        }
      ]
    },
    {
      "cell_type": "code",
      "metadata": {
        "id": "GWkNQbD5-yfY"
      },
      "source": [
        "x = np.array([1,-1])\n",
        "y = np.array([-1,1])\n",
        "a,b = 1/2, 1/2"
      ],
      "execution_count": null,
      "outputs": []
    },
    {
      "cell_type": "code",
      "metadata": {
        "id": "iXwmatEM-yfY",
        "outputId": "b45a2276-52aa-472b-d0f8-b793ab753665"
      },
      "source": [
        "print('MAX(a*x + b*y) = ', MAX(a*x + b*y))"
      ],
      "execution_count": null,
      "outputs": [
        {
          "output_type": "stream",
          "text": [
            "MAX(a*x + b*y) =  0.0\n"
          ],
          "name": "stdout"
        }
      ]
    },
    {
      "cell_type": "code",
      "metadata": {
        "id": "WA5LBIuC-yfZ",
        "outputId": "405919e9-c4cb-49e5-f621-bae0928e0c69"
      },
      "source": [
        "print('a*MAX(x) + b*MAX(y) = ', a*MAX(x) + b*MAX(y))"
      ],
      "execution_count": null,
      "outputs": [
        {
          "output_type": "stream",
          "text": [
            "a*MAX(x) + b*MAX(y) =  1.0\n"
          ],
          "name": "stdout"
        }
      ]
    },
    {
      "cell_type": "markdown",
      "metadata": {
        "id": "0YHexdMT-yfZ"
      },
      "source": [
        "## 5.2 Algunas consideraciones"
      ]
    },
    {
      "cell_type": "markdown",
      "metadata": {
        "id": "ewsfLcPT-yfZ"
      },
      "source": [
        "**Funciones Afines.** Una función $f:\\mathbb{R}^{n} \\to \\mathbb{R}$ es afín si y solo si puede ser expresada como $f(x) = a^{T}x + b$ para algún $n$-vector $a$ y un escalar $b$, es llamado algunas veces *offset* o *bias*. Por ejemplo si consideramos la siguiente función:\n",
        "\n",
        "$$\n",
        "f(x) = 3 + x_{0}+x_{1}+x_{2}\n",
        "$$\n",
        "\n",
        "La podemos representar como \n",
        "\n",
        "$$\n",
        "f(x) = a^T x + b = [1 \\; 1 \\; 1] x + 3\n",
        "$$"
      ]
    },
    {
      "cell_type": "markdown",
      "metadata": {
        "id": "1rldKxJu-yfa"
      },
      "source": [
        "Una función afín cumplirá la superposición si y solo si la suma de de los coeficientes de la combinación lineal es uno. Es decir, si $f$ es una función afín entonces $f(\\alpha x + \\beta y) = \\alpha f(x)+ \\beta f(y)$ si y solo si $  \\alpha + \\beta = 1$.\n",
        "\n",
        "*Demostración.* Como $f$ es afín tenemos que $f(x)=a^T x + b$  entonces, usando que $  \\alpha + \\beta = 1$\n",
        "\n",
        "$$\n",
        "\\begin{eqnarray}\n",
        "f(\\alpha x + \\beta y) &=& a^T (\\alpha x + \\beta y) + b \\\\\n",
        " &=& a^T \\alpha x + a^T \\beta y + (\\alpha + \\beta) b \\\\\n",
        " &=& \\alpha a^T x + \\alpha b + \\beta a^T y + \\beta b \\\\\n",
        " &=& \\alpha (a^T x + b) + \\beta (a^T y + b) \\\\\n",
        " &=& \\alpha f(x) + \\beta f(y)\n",
        "\\end{eqnarray}\n",
        "$$"
      ]
    },
    {
      "cell_type": "markdown",
      "metadata": {
        "id": "nhGFTgjF-yfa"
      },
      "source": [
        "**Ejercicio.** Determina si las siguientes funciones son lineales o no:\n",
        "* $f(\\mathbf{x}) = x_{n-1} - x_{0}$\n",
        "\n",
        "* Si $\\mathbf{x}\\in\\mathbb{R}^{4}$ y $f:\\mathbb{R}^{4} \\to \\mathbb{R}$ definida como $f(\\mathbf{x})=x_{3}+(x_{3}-x_{2})$"
      ]
    },
    {
      "cell_type": "markdown",
      "metadata": {
        "id": "0aGc58J4-yfa"
      },
      "source": [
        "**Problema: Potencia en un clúster de procesadores y temperatura.** La temperatura $T$ de un cluster de tres procesadores es una función afín de la potencia de los procesadores $P^T = [P_{0}\\; P_{1}\\; P_{2}]$. Cuando los tres procesadores están en reposo tenemos que $P^T = [10\\; 10\\; 10]$ lo cual nos da una temperatura de $T=35$. Cuando el primer procesador opera a potencia absoluta tenemos que $P^T = [100\\; 10\\; 10]$ y la temperatura se eleva a $T=60$. Cuando el segundo procesador opera a su máxima capacidad tenemos $P^T = [10\\; 100\\; 10]$ y la temperatura se eleva a $T=75$. Cuando el tercer procesador opera a máxima potencia mientras que los otros dos están en reposo tenemos que $P^T = [10\\; 10\\; 100]$ y la temperatura se elevea a $T=65$. Supongamos que los tres procesadores operan a máxima potencia ¿Qué temperatura se alcanza? La temperatura de fusión de los procesadores (a la que los procesadores se derriten) es cerca de $150$ ¿Cuál es la potencia máxima que pueden alcanzar los procesadores para que $T\\le 150$?  \n",
        "*Hint:* $T(P) = a^T P + b$"
      ]
    },
    {
      "cell_type": "code",
      "metadata": {
        "id": "UTcFMDaKVoMk",
        "outputId": "4bd52104-76b1-43f9-fd04-1132784134a0",
        "colab": {
          "base_uri": "https://localhost:8080/"
        }
      },
      "source": [
        "import numpy as np\n",
        "from sklearn.linear_model import LinearRegression\n",
        "\n",
        "def datos_experimentales():\n",
        "\n",
        "  p_1 = np.array([10,10,10]) #en reposo\n",
        "  p_2 = np.array([100,10,10])\n",
        "  p_3 = np.array([10,100,10])\n",
        "  p_4 = np.array([10,10,100])\n",
        "\n",
        "  p = np.array([p_1,p_2,p_3,p_4])\n",
        "  t = np.array([35,60,75,65])\n",
        "\n",
        "  return p, t\n",
        "\n",
        "def solucion_metodo1(): #resolvemos el sistema de ecuaciones\n",
        "  \n",
        "  ecuacion1 = \"10*a0+10*a1+10*a2+b=35\"\n",
        "  ecuacion2 = \"100*a0+10*a1+10*a2+b=60\"\n",
        "  ecuacion3 = \"10*a0+100*a1+10*a2+b=75\"\n",
        "  ecuacion4 = \"10*a0+10*a1+100*a2+b=65\"\n",
        "\n",
        "  p = np.array([[10,10,10,1],[100,10,10,1],[10,100,10,1],[10,10,100,1]])\n",
        "  t = np.array([35,60,75,65])\n",
        "\n",
        "  a = np.linalg.solve(p,t)\n",
        "\n",
        "  return a\n",
        "\n",
        "def solucion_metodo2():\n",
        "  \n",
        "  p, t = datos_experimentales()\n",
        "\n",
        "  A = np.column_stack([p,np.ones(len(p))])\n",
        "  coef = np.linalg.lstsq(A,t,rcond=-1)[0]\n",
        "  ai = coef[:3]\n",
        "  cof = coef[3:]\n",
        "\n",
        "  return ai, cof\n",
        "\n",
        "def solucion_metodo3():\n",
        "\n",
        "  model = LinearRegression()\n",
        "\n",
        "  p, t = datos_experimentales()\n",
        "\n",
        "  model.fit(X=p, y=t)\n",
        "\n",
        "  print(\"Coef: \", *model.coef_)\n",
        "  print(\"Intercept: \", model.intercept_)\n",
        "\n",
        "\n",
        "def run():\n",
        "  #print(\"********metodo1, resolvinedo el sistema de ecuaciones*******\")\n",
        "  #print(solucion_metodo1())\n",
        "  print(\"********metodo2, usando minimos cuadrados, numpy.linalg.lstsq*******\")\n",
        "  print(solucion_metodo2())\n",
        "  #print(\"********metodo3, regresion lineal con sklearn.linear_model*******\")\n",
        "  #solucion_metodo3()\n",
        "\n",
        "def T(P):\n",
        "  a, b = solucion_metodo2()\n",
        "  return a.T@P + b\n",
        "\n",
        "\n",
        "if __name__ == \"__main__\":\n",
        "  run()\n",
        "  T([100,100,100])\n",
        "    "
      ],
      "execution_count": 1,
      "outputs": [
        {
          "output_type": "stream",
          "text": [
            "********metodo2, usando minimos cuadrados, numpy.linalg.lstsq*******\n",
            "(array([0.27777778, 0.44444444, 0.33333333]), array([24.44444444]))\n"
          ],
          "name": "stdout"
        }
      ]
    }
  ]
}