{
  "nbformat": 4,
  "nbformat_minor": 0,
  "metadata": {
    "colab": {
      "name": "Analisis_productividad_enea.ipynb",
      "provenance": [],
      "authorship_tag": "ABX9TyNY/ofoKBWPwbQC2yUykNJB",
      "include_colab_link": true
    },
    "kernelspec": {
      "name": "python3",
      "display_name": "Python 3"
    },
    "language_info": {
      "name": "python"
    }
  },
  "cells": [
    {
      "cell_type": "markdown",
      "metadata": {
        "id": "view-in-github",
        "colab_type": "text"
      },
      "source": [
        "<a href=\"https://colab.research.google.com/github/diegosaldiasq/al-vectores/blob/main/Analisis_productividad_enea.ipynb\" target=\"_parent\"><img src=\"https://colab.research.google.com/assets/colab-badge.svg\" alt=\"Open In Colab\"/></a>"
      ]
    },
    {
      "cell_type": "code",
      "metadata": {
        "id": "kII6YNTTgY-s"
      },
      "source": [
        "import pandas as pd\n",
        "import numpy as np\n",
        "import matplotlib.pyplot as plt\n",
        "import seaborn as sns\n",
        "%matplotlib inline"
      ],
      "execution_count": 2,
      "outputs": []
    },
    {
      "cell_type": "code",
      "metadata": {
        "id": "Gn8wyiMSgoj7"
      },
      "source": [
        "time = np.array([15,11,7,11,8,9,16,9,15,10,14,9,15,15,10,14])"
      ],
      "execution_count": 4,
      "outputs": []
    },
    {
      "cell_type": "code",
      "metadata": {
        "colab": {
          "base_uri": "https://localhost:8080/"
        },
        "id": "WLHlAtcQg7Ix",
        "outputId": "07735a62-5af2-444e-f9dd-826f37d793e4"
      },
      "source": [
        "prom = np.mean(time)\n",
        "prom"
      ],
      "execution_count": 7,
      "outputs": [
        {
          "output_type": "execute_result",
          "data": {
            "text/plain": [
              "11.75"
            ]
          },
          "metadata": {
            "tags": []
          },
          "execution_count": 7
        }
      ]
    },
    {
      "cell_type": "code",
      "metadata": {
        "colab": {
          "base_uri": "https://localhost:8080/",
          "height": 319
        },
        "id": "enWq76XkhALE",
        "outputId": "e12bbc9d-eb90-47a7-cece-edc5c01a3d5d"
      },
      "source": [
        "ax = sns.distplot(time,kde=False,bins=30)"
      ],
      "execution_count": 15,
      "outputs": [
        {
          "output_type": "stream",
          "text": [
            "/usr/local/lib/python3.7/dist-packages/seaborn/distributions.py:2557: FutureWarning: `distplot` is a deprecated function and will be removed in a future version. Please adapt your code to use either `displot` (a figure-level function with similar flexibility) or `histplot` (an axes-level function for histograms).\n",
            "  warnings.warn(msg, FutureWarning)\n"
          ],
          "name": "stderr"
        },
        {
          "output_type": "display_data",
          "data": {
            "image/png": "[encoded data removed]",
            "text/plain": [
              "<Figure size 432x288 with 1 Axes>"
            ]
          },
          "metadata": {
            "tags": [],
            "needs_background": "light"
          }
        }
      ]
    },
    {
      "cell_type": "code",
      "metadata": {
        "colab": {
          "base_uri": "https://localhost:8080/"
        },
        "id": "dv2GwlfUhdU7",
        "outputId": "ee243ff6-89e1-47f5-ccd1-ee0f75256e8b"
      },
      "source": [
        "prom_tor = (prom)/len(time)\n",
        "prom_tor"
      ],
      "execution_count": 19,
      "outputs": [
        {
          "output_type": "execute_result",
          "data": {
            "text/plain": [
              "0.734375"
            ]
          },
          "metadata": {
            "tags": []
          },
          "execution_count": 19
        }
      ]
    },
    {
      "cell_type": "code",
      "metadata": {
        "colab": {
          "base_uri": "https://localhost:8080/"
        },
        "id": "7eD3qntjiBaR",
        "outputId": "864ff7cf-5502-4f12-b5d0-06a5215554a8"
      },
      "source": [
        "tp = 60/prom\n",
        "tp"
      ],
      "execution_count": 21,
      "outputs": [
        {
          "output_type": "execute_result",
          "data": {
            "text/plain": [
              "5.1063829787234045"
            ]
          },
          "metadata": {
            "tags": []
          },
          "execution_count": 21
        }
      ]
    },
    {
      "cell_type": "code",
      "metadata": {
        "colab": {
          "base_uri": "https://localhost:8080/"
        },
        "id": "hqqJWUb6jjln",
        "outputId": "7bdc8ea7-afaa-4fd1-c299-52547955396b"
      },
      "source": [
        "grana = np.array([9,9,10,9,9,9])\n",
        "prom_grana = np.mean(grana)\n",
        "prom_grana"
      ],
      "execution_count": 22,
      "outputs": [
        {
          "output_type": "execute_result",
          "data": {
            "text/plain": [
              "9.166666666666666"
            ]
          },
          "metadata": {
            "tags": []
          },
          "execution_count": 22
        }
      ]
    },
    {
      "cell_type": "code",
      "metadata": {
        "colab": {
          "base_uri": "https://localhost:8080/"
        },
        "id": "4O_mKqmfj0LW",
        "outputId": "3f1aea96-19c2-4a74-864f-922f95e9210c"
      },
      "source": [
        "tp_g = 60/prom_grana\n",
        "tp_g"
      ],
      "execution_count": 24,
      "outputs": [
        {
          "output_type": "execute_result",
          "data": {
            "text/plain": [
              "6.545454545454546"
            ]
          },
          "metadata": {
            "tags": []
          },
          "execution_count": 24
        }
      ]
    },
    {
      "cell_type": "code",
      "metadata": {
        "colab": {
          "base_uri": "https://localhost:8080/"
        },
        "id": "6ahbMkfTj5ZW",
        "outputId": "a17de9f3-44d8-4cf2-96de-345a86c26869"
      },
      "source": [
        "monos = np.array([4.0,10.9,5.3,4.7,7.0,4.1,3.3,4.0,4.1,3.3,4.2,3.3])\n",
        "prom_monos = np.mean(monos)\n",
        "prom_monos"
      ],
      "execution_count": 25,
      "outputs": [
        {
          "output_type": "execute_result",
          "data": {
            "text/plain": [
              "4.85"
            ]
          },
          "metadata": {
            "tags": []
          },
          "execution_count": 25
        }
      ]
    },
    {
      "cell_type": "code",
      "metadata": {
        "colab": {
          "base_uri": "https://localhost:8080/"
        },
        "id": "lttk3rmWkh5N",
        "outputId": "c2347c48-f8be-4421-9441-71122e582825"
      },
      "source": [
        "tp_m = 60/prom_monos\n",
        "tp_m"
      ],
      "execution_count": 27,
      "outputs": [
        {
          "output_type": "execute_result",
          "data": {
            "text/plain": [
              "12.371134020618557"
            ]
          },
          "metadata": {
            "tags": []
          },
          "execution_count": 27
        }
      ]
    },
    {
      "cell_type": "code",
      "metadata": {
        "colab": {
          "base_uri": "https://localhost:8080/"
        },
        "id": "txFr5birklon",
        "outputId": "68c49745-11f4-4db1-e303-48b3b1f59232"
      },
      "source": [
        "escrito = np.array([6.0,7.8,8.2,12.1,8.0,8.3,7.7,6.9,8.8,6.9,7.9])\n",
        "prom_escrito = np.mean(escrito)\n",
        "prom_escrito"
      ],
      "execution_count": 28,
      "outputs": [
        {
          "output_type": "execute_result",
          "data": {
            "text/plain": [
              "8.054545454545455"
            ]
          },
          "metadata": {
            "tags": []
          },
          "execution_count": 28
        }
      ]
    },
    {
      "cell_type": "code",
      "metadata": {
        "colab": {
          "base_uri": "https://localhost:8080/"
        },
        "id": "EPshaS5KlIxi",
        "outputId": "5a0f1bf9-f0d7-41a1-87fb-699aaa9e7f9e"
      },
      "source": [
        "tp_e = 60/prom_escrito\n",
        "tp_e"
      ],
      "execution_count": 29,
      "outputs": [
        {
          "output_type": "execute_result",
          "data": {
            "text/plain": [
              "7.44920993227991"
            ]
          },
          "metadata": {
            "tags": []
          },
          "execution_count": 29
        }
      ]
    },
    {
      "cell_type": "code",
      "metadata": {
        "colab": {
          "base_uri": "https://localhost:8080/"
        },
        "id": "mL2Xt1YNlMwY",
        "outputId": "1629a51a-93db-4a5a-a444-2c8856a3c59a"
      },
      "source": [
        "fruta = np.array([2,2,3,2,2])\n",
        "prom_fruta = np.mean(fruta)\n",
        "prom_fruta"
      ],
      "execution_count": 30,
      "outputs": [
        {
          "output_type": "execute_result",
          "data": {
            "text/plain": [
              "2.2"
            ]
          },
          "metadata": {
            "tags": []
          },
          "execution_count": 30
        }
      ]
    },
    {
      "cell_type": "code",
      "metadata": {
        "colab": {
          "base_uri": "https://localhost:8080/"
        },
        "id": "pCgVYe84lYRF",
        "outputId": "0b12351e-2d43-4f5b-a150-a328d25138a5"
      },
      "source": [
        "tp_f = 60/prom_fruta\n",
        "tp_f"
      ],
      "execution_count": 31,
      "outputs": [
        {
          "output_type": "execute_result",
          "data": {
            "text/plain": [
              "27.27272727272727"
            ]
          },
          "metadata": {
            "tags": []
          },
          "execution_count": 31
        }
      ]
    },
    {
      "cell_type": "code",
      "metadata": {
        "colab": {
          "base_uri": "https://localhost:8080/"
        },
        "id": "8uq6AOivleUF",
        "outputId": "0fc857b1-f11d-499c-ac45-ab98cfc753c8"
      },
      "source": [
        "muestra_uno_hpj = 11*60/(6*60+30)\n",
        "muestra_uno_hpj"
      ],
      "execution_count": 33,
      "outputs": [
        {
          "output_type": "execute_result",
          "data": {
            "text/plain": [
              "1.6923076923076923"
            ]
          },
          "metadata": {
            "tags": []
          },
          "execution_count": 33
        }
      ]
    },
    {
      "cell_type": "code",
      "metadata": {
        "colab": {
          "base_uri": "https://localhost:8080/"
        },
        "id": "hoY_vIqtm4Gw",
        "outputId": "001d2e19-0cfa-4073-fb58-78f0be5ced0f"
      },
      "source": [
        "muestra_dos_hpj = 9*60/(8*60+30)\n",
        "muestra_dos_hpj"
      ],
      "execution_count": 34,
      "outputs": [
        {
          "output_type": "execute_result",
          "data": {
            "text/plain": [
              "1.0588235294117647"
            ]
          },
          "metadata": {
            "tags": []
          },
          "execution_count": 34
        }
      ]
    },
    {
      "cell_type": "code",
      "metadata": {
        "colab": {
          "base_uri": "https://localhost:8080/"
        },
        "id": "ocBdkYKhncpX",
        "outputId": "93232d4e-2f00-40b0-e663-9a8a71cecdc5"
      },
      "source": [
        "hpj_sim = np.random.uniform(round(muestra_dos_hpj,1),round(muestra_uno_hpj,1)+0.1,1000)\n",
        "prom_hpj_sim = np.mean(hpj_sim)\n",
        "prom_hpj_sim"
      ],
      "execution_count": 42,
      "outputs": [
        {
          "output_type": "execute_result",
          "data": {
            "text/plain": [
              "1.4542148255581664"
            ]
          },
          "metadata": {
            "tags": []
          },
          "execution_count": 42
        }
      ]
    },
    {
      "cell_type": "code",
      "metadata": {
        "colab": {
          "base_uri": "https://localhost:8080/"
        },
        "id": "ArhZDet0pEAd",
        "outputId": "2365336e-075f-4fe0-a9dd-b6e1a447e32a"
      },
      "source": [
        "pl_mpj_h = 6*60\n",
        "pl_mpj_l = 5*60+45\n",
        "mpj_sim = np.random.uniform(pl_mpj_l,pl_mpj_h+1,1000)\n",
        "prom_mpj = np.mean(mpj_sim)/60\n",
        "prom_mpj"
      ],
      "execution_count": 45,
      "outputs": [
        {
          "output_type": "execute_result",
          "data": {
            "text/plain": [
              "5.879736786193819"
            ]
          },
          "metadata": {
            "tags": []
          },
          "execution_count": 45
        }
      ]
    },
    {
      "cell_type": "code",
      "metadata": {
        "colab": {
          "base_uri": "https://localhost:8080/"
        },
        "id": "5BAlMJ_dtsLz",
        "outputId": "c7800cee-3c41-4981-ece9-2b3cf5ab18aa"
      },
      "source": [
        "mpj_p = 21/prom_mpj\n",
        "mpj_p"
      ],
      "execution_count": 46,
      "outputs": [
        {
          "output_type": "execute_result",
          "data": {
            "text/plain": [
              "3.571588450916714"
            ]
          },
          "metadata": {
            "tags": []
          },
          "execution_count": 46
        }
      ]
    },
    {
      "cell_type": "code",
      "metadata": {
        "id": "3b5OvfeeuB3C"
      },
      "source": [
        ""
      ],
      "execution_count": null,
      "outputs": []
    }
  ]
}