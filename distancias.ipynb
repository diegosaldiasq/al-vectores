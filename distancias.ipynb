{
  "nbformat": 4,
  "nbformat_minor": 0,
  "metadata": {
    "kernelspec": {
      "display_name": "Python 3",
      "language": "python",
      "name": "python3"
    },
    "language_info": {
      "codemirror_mode": {
        "name": "ipython",
        "version": 3
      },
      "file_extension": ".py",
      "mimetype": "text/x-python",
      "name": "python",
      "nbconvert_exporter": "python",
      "pygments_lexer": "ipython3",
      "version": "3.7.3"
    },
    "colab": {
      "name": "distancias.ipynb",
      "provenance": [],
      "include_colab_link": true
    }
  },
  "cells": [
    {
      "cell_type": "markdown",
      "metadata": {
        "id": "view-in-github",
        "colab_type": "text"
      },
      "source": [
        "<a href=\"https://colab.research.google.com/github/diegosaldiasq/al-vectores/blob/main/distancias.ipynb\" target=\"_parent\"><img src=\"https://colab.research.google.com/assets/colab-badge.svg\" alt=\"Open In Colab\"/></a>"
      ]
    },
    {
      "cell_type": "markdown",
      "metadata": {
        "id": "8sgJ_6F2O6qB"
      },
      "source": [
        "# 8. Distancia y Norma"
      ]
    },
    {
      "cell_type": "markdown",
      "metadata": {
        "id": "y8iihY76O6qT"
      },
      "source": [
        "En clases pasadas hablamos de la magnitud de un vector pero no dimos una forma de poder medirla, esa magnitud la podremos calcular a través de la *norma Euclidiana*:\n",
        "\n",
        "$$\n",
        "||x|| = \\displaystyle\\sqrt{x_{0}^2 + x_{1}^2 + \\cdots + x_{n-1}^{2}} = \\displaystyle\\sqrt(x^Tx)\n",
        "$$\n",
        "\n",
        "Hay que notar que $x$ en la expresión anterior es un $n$-vector. \n",
        "Pongamos un ejemplo con $x^T = [1,2,3]$\n",
        "\n",
        "$$\n",
        "||x|| = \\displaystyle\\sqrt{1^2 + 2^2 + 3^2} = \\sqrt{14} \\approx 3.74\n",
        "$$\n",
        "\n",
        "Realizaremos otro con $x^T = [2,-1,2]$\n",
        "\n",
        "$$\n",
        "||x|| = \\displaystyle\\sqrt{2^2 + (-1)^2 + 2^2} = \\sqrt{9} = 3\n",
        "$$"
      ]
    },
    {
      "cell_type": "markdown",
      "metadata": {
        "id": "_yRnYcL0O6qV"
      },
      "source": [
        "## 8.1 Propieades de la norma"
      ]
    },
    {
      "cell_type": "markdown",
      "metadata": {
        "id": "qc65x9uAO6qV"
      },
      "source": [
        "Como todas las operaciones con las que trabajamos hasta ahora la norma también cumple una serie de propiedades. Sean $x$, $y$ son $n$-vectores y $\\beta$ un escalar cualquiera, tenemos que la norma cumple:\n",
        "* Homogeneídad no negativa: $||\\beta x|| = |\\beta|\\cdot ||x||$\n",
        "\n",
        "* Desigualdad del triángulo: $||x+y|| \\le ||x|| + ||y||$ \n",
        "\n",
        "* No-negatividad: $||x||\\ge 0$ y además $||x|| = 0$ si y solamente si $x = \\mathbf{0}$"
      ]
    },
    {
      "cell_type": "markdown",
      "metadata": {
        "id": "T2d9K_0QO6qW"
      },
      "source": [
        "La norma es ampliamente usada, en particular podemos señalar los siguientes ejemplos:\n",
        "\n",
        "**Valor cuadrático medio.** Algunas veces también es llamado simplemente **RMS** y se define como sigue:\n",
        "\n",
        "$$\n",
        "rms(x) = \\displaystyle\\sqrt{\\frac{x_{0}^2 + x_{1}^2 + \\cdots + x_{n-1}^{2}}{n}} = \\frac{||x||}{\\sqrt{n}}\n",
        "$$"
      ]
    },
    {
      "cell_type": "markdown",
      "metadata": {
        "id": "YPkEKah4O6qX"
      },
      "source": [
        "**Norma de una suma.** Si tenemos dos vectores $x$ y $y$ entonces la norma de la suma es\n",
        "\n",
        "$$\n",
        "||x+y|| = \\displaystyle\\sqrt{||x||^{2} + 2x^{T}y + ||y||^{2}}\n",
        "$$"
      ]
    },
    {
      "cell_type": "markdown",
      "metadata": {
        "id": "AkQYCZlbO6qX"
      },
      "source": [
        "**Norma de una bloque de vectores.** La norma de bloque de vectores será simplemente la raíz cuadrada de la suma de sus componentes. Si tenemos $d$ un $k$-vector con componentes $d_{i}$ que son $n$-vectores entonces tenemos que:\n",
        "\n",
        "$$\n",
        "||d|| = \\displaystyle\\sqrt{||d_{0}||^{2}+||d_{1}||^{2}+\\cdots + ||d_{n-1}||^{2}}\n",
        "$$"
      ]
    },
    {
      "cell_type": "code",
      "metadata": {
        "id": "mmQWe7_rO6qZ"
      },
      "source": [
        "import numpy as np"
      ],
      "execution_count": 1,
      "outputs": []
    },
    {
      "cell_type": "code",
      "metadata": {
        "id": "_DznxgGdO6qa"
      },
      "source": [
        "u = np.array([1,1])"
      ],
      "execution_count": 2,
      "outputs": []
    },
    {
      "cell_type": "code",
      "metadata": {
        "id": "AhaM1fxoO6qb"
      },
      "source": [
        "def norma(x):\n",
        "    return np.sqrt(x.T@x)"
      ],
      "execution_count": 5,
      "outputs": []
    },
    {
      "cell_type": "code",
      "metadata": {
        "id": "RbBmCu0OO6qc",
        "outputId": "6a212bf7-83f2-4d12-e739-53a617037d5a",
        "colab": {
          "base_uri": "https://localhost:8080/"
        }
      },
      "source": [
        "norma(u)"
      ],
      "execution_count": 4,
      "outputs": [
        {
          "output_type": "execute_result",
          "data": {
            "text/plain": [
              "1.4142135623730951"
            ]
          },
          "metadata": {
            "tags": []
          },
          "execution_count": 4
        }
      ]
    },
    {
      "cell_type": "markdown",
      "metadata": {
        "id": "JRgC_EcvO6qe"
      },
      "source": [
        "$2*u^T = [2,2]$ entonces la norma será $||2u|| = \\displaystyle\\sqrt{2^2 + 2^2} = \\displaystyle\\sqrt{8}$"
      ]
    },
    {
      "cell_type": "code",
      "metadata": {
        "id": "zYekpg4sO6qf",
        "outputId": "03b934c9-b491-496c-db90-2cdf5e2faab5"
      },
      "source": [
        "norma(2*u)"
      ],
      "execution_count": null,
      "outputs": [
        {
          "output_type": "execute_result",
          "data": {
            "text/plain": [
              "2.8284271247461903"
            ]
          },
          "metadata": {
            "tags": []
          },
          "execution_count": 5
        }
      ]
    },
    {
      "cell_type": "code",
      "metadata": {
        "id": "U7ABXbjvO6qh",
        "outputId": "e611ac85-5301-4a60-f610-ebc05c88333f"
      },
      "source": [
        "2*norma(u)"
      ],
      "execution_count": null,
      "outputs": [
        {
          "output_type": "execute_result",
          "data": {
            "text/plain": [
              "2.8284271247461903"
            ]
          },
          "metadata": {
            "tags": []
          },
          "execution_count": 6
        }
      ]
    },
    {
      "cell_type": "code",
      "metadata": {
        "id": "ncxvLl9KO6qh"
      },
      "source": [
        "v = np.array([-1,1])"
      ],
      "execution_count": 7,
      "outputs": []
    },
    {
      "cell_type": "code",
      "metadata": {
        "id": "aMfxo18cO6qi",
        "outputId": "b6c301e0-9619-4fd2-a8f6-1db28af70e2f"
      },
      "source": [
        "print('||u+v|| = ',norma(u+v))"
      ],
      "execution_count": null,
      "outputs": [
        {
          "output_type": "stream",
          "text": [
            "||u+v|| =  2.0\n"
          ],
          "name": "stdout"
        }
      ]
    },
    {
      "cell_type": "code",
      "metadata": {
        "id": "yT-d6MtxO6qj",
        "outputId": "c32e9273-4421-49ef-d268-f630e7890612"
      },
      "source": [
        "print('||v|| = ',norma(v))"
      ],
      "execution_count": null,
      "outputs": [
        {
          "output_type": "stream",
          "text": [
            "||v|| =  1.4142135623730951\n"
          ],
          "name": "stdout"
        }
      ]
    },
    {
      "cell_type": "code",
      "metadata": {
        "id": "voLLz8GfO6ql",
        "outputId": "0e2624a3-1706-40d2-c6b8-ab4bea95b6f2"
      },
      "source": [
        "print('¿Es verdad que ||u+v|| menor o igual que ||u||+||v||', norma(u+v) <= norma(v)+norma(u))"
      ],
      "execution_count": null,
      "outputs": [
        {
          "output_type": "stream",
          "text": [
            "¿Es verdad que ||u+v|| menor o igual que ||u||+||v|| True\n"
          ],
          "name": "stdout"
        }
      ]
    },
    {
      "cell_type": "code",
      "metadata": {
        "id": "H8gfmy_vfhi1",
        "outputId": "260dd6f7-dd95-496f-d47a-02b79aad904b",
        "colab": {
          "base_uri": "https://localhost:8080/"
        }
      },
      "source": [
        "print('Suma de ||u|| + ||v|| = ', norma(u) + norma(v))"
      ],
      "execution_count": 9,
      "outputs": [
        {
          "output_type": "stream",
          "text": [
            "Suma de ||u|| + ||v|| =  2.8284271247461903\n"
          ],
          "name": "stdout"
        }
      ]
    },
    {
      "cell_type": "markdown",
      "metadata": {
        "id": "o9hx-XiOO6qn"
      },
      "source": [
        "  "
      ]
    },
    {
      "cell_type": "markdown",
      "metadata": {
        "id": "d9w8a_ZqO6qn"
      },
      "source": [
        "## 8.1 Distancia entre vectores"
      ]
    },
    {
      "cell_type": "markdown",
      "metadata": {
        "id": "rz2JvyhHO6qn"
      },
      "source": [
        "Podemos usar la norma pora definir la distancia entre dos vectores $\\mathbf{a}$ y $\\mathbf{b}$ como la norma de la diferencia de los vectores\n",
        "\n",
        "$$\n",
        "dist(\\mathbf{a},\\mathbf{b}) = ||\\mathbf{a} - \\mathbf{b}|| = \\displaystyle\\sqrt{(a_{0}-b_{0})^2 + (a_{1}-b_{1})^2 + \\cdots + (a_{n-1}-b_{n-1})^2}\n",
        "$$"
      ]
    },
    {
      "cell_type": "code",
      "metadata": {
        "id": "NnnL0NyXO6qo"
      },
      "source": [
        "a = np.array([1,1])\n",
        "b = np.array([-2,3])"
      ],
      "execution_count": null,
      "outputs": []
    },
    {
      "cell_type": "code",
      "metadata": {
        "id": "vW5pg0-FO6qp"
      },
      "source": [
        "c = a - b"
      ],
      "execution_count": null,
      "outputs": []
    },
    {
      "cell_type": "code",
      "metadata": {
        "id": "aYbgJjBMO6qq",
        "outputId": "8cb9db87-6488-4aac-ad67-4d3163f2ad98"
      },
      "source": [
        "norma(a-b)"
      ],
      "execution_count": null,
      "outputs": [
        {
          "output_type": "execute_result",
          "data": {
            "text/plain": [
              "3.605551275463989"
            ]
          },
          "metadata": {
            "tags": []
          },
          "execution_count": 15
        }
      ]
    },
    {
      "cell_type": "code",
      "metadata": {
        "id": "z9bjRUhVO6qq",
        "outputId": "7ae480fb-26dc-4424-ec54-b4bc30c77567"
      },
      "source": [
        "np.linalg.norm(a-b)"
      ],
      "execution_count": null,
      "outputs": [
        {
          "output_type": "execute_result",
          "data": {
            "text/plain": [
              "3.605551275463989"
            ]
          },
          "metadata": {
            "tags": []
          },
          "execution_count": 16
        }
      ]
    },
    {
      "cell_type": "markdown",
      "metadata": {
        "id": "wg8vDQsQO6qr"
      },
      "source": [
        "A esto se el llama _norma Euclidiana_ o *distancia Euclidiana* y tiene ese nombre porque es como se infiere la forma de medir distancias de los [postulados de Euclides](https://es.wikipedia.org/wiki/Postulados_de_Euclides). Ahora, la realidad es que siempre que nuestro espacio admita una $\\mathbf{L^p}$-norma entonces podremos generalizar la norma anterior como\n",
        "\n",
        "$$\n",
        "||x||_{p} = \\left(|x_{0}|^p + |x_{1}|^p + \\cdots + |x_{n-1}|^p\\right)^{1/p} \\qquad con \\;\\; 1\\le p\n",
        "$$"
      ]
    },
    {
      "cell_type": "markdown",
      "metadata": {
        "id": "Pqbqa6uUO6qs"
      },
      "source": [
        "Por eso es que la norma Euclidiana también es conocida como la *norma $L_{2}$*. Hay otras normas que recibe nombres. Por ejemplo, si $p=1$ tenemos la norma $L_{1}$ y esta es llamada _la métrica del taxista_ o _la métrica de Manhattan_. Si tomamos $p \\to \\infty$ entonces tenemos $L_{\\infty}$ y esta es llamada _la métrica del máximo_. Es muy importante saber qué métrica estamos usando para medir distancias ya que la forma en la que medimos distancias está en total correspondencia en con configuración y la percepción el espacio. Por ejemplo, mientras que en la métrica Euclidiana la distancia corresponde a la más corta entre los dos vectores en el espacio planeo en el caso de la métrica del taxista es la más corta pero no será es segmento más directo sino por _bloques_."
      ]
    },
    {
      "cell_type": "markdown",
      "metadata": {
        "id": "UOf_INMFO6qs"
      },
      "source": [
        "Para poder simplificar las cosas tomemos dos vectores $\\mathbf{x}$ y $\\mathbf{y}$ en $\\mathbb{R}^2$\n",
        "\n",
        "$$\n",
        "\\mathbf{x} = \\begin{bmatrix} 2\\\\1 \\end{bmatrix},\\; \\qquad \\mathbf{y} = \\begin{bmatrix} 1\\\\2 \\end{bmatrix}\n",
        "$$\n",
        "\n",
        "La distancia en el caso de norma $L_{2}$ tenemos que la distancia entre los vectores es $||\\mathbf{x}-\\mathbf{y}||_{2} = \\displaystyle\\sqrt{(2-1)^{2} + (1-2)^{2}} = \\displaystyle\\sqrt{2}$ mientras que bajo la norma $L_{1}$ obtenemos que $||\\mathbf{x}-\\mathbf{y}||_{1} = |2-1|+|1-2| = 2$. "
      ]
    },
    {
      "cell_type": "markdown",
      "metadata": {
        "id": "sOfTm4eHO6qt"
      },
      "source": [
        "Ahora, si $\\mathbf{x}$ y $\\mathbf{y}$ son $n$-vectores hay una medida quer después cobrará importancia, *la desviación cuadrática media*\n",
        "\n",
        "$$\n",
        "rms_{dev}(\\mathbf{x},\\mathbf{y}) = \\displaystyle\\frac{||\\mathbf{x}-\\mathbf{y}||}{\\sqrt{n}}\n",
        "$$"
      ]
    },
    {
      "cell_type": "markdown",
      "metadata": {
        "id": "KCpLNZrJO6qt"
      },
      "source": [
        "  "
      ]
    },
    {
      "cell_type": "markdown",
      "metadata": {
        "id": "dvurWcJXO6qt"
      },
      "source": [
        "Algo muy imporante es que a pesar de que medimos distancias no existen propiamente nociones de *cerca* y *lejos*. Si tomamos los siguientes $4$-vectores\n",
        "\n",
        "$$\n",
        "\\mathbf{u} = \\begin{bmatrix}1.8 \\\\ 2.8 \\\\ -3.7 \\\\ 4.7 \\end{bmatrix}, \\qquad  \\mathbf{v} = \\begin{bmatrix}0.6 \\\\ 2.1 \\\\ 1.9 \\\\ -1.4 \\end{bmatrix}, \\qquad \\mathbf{w} = \\begin{bmatrix}2.0 \\\\ 1.9 \\\\ -4.0 \\\\ 4.6 \\end{bmatrix}\n",
        "$$\n",
        "\n",
        "Tenemos que las distancia entre los vectores es:\n",
        "\n",
        "$$\n",
        "||\\mathbf{u}-\\mathbf{v}|| = 8.36, \\qquad ||\\mathbf{u}-\\mathbf{w}|| = 0.38, \\qquad ||\\mathbf{v}-\\mathbf{w}|| = 8.63\n",
        "$$\n",
        "\n",
        "Entonces así ya tenemos noción de cercanía o lontanaza, de no ser porque comparamos no tendríamos estas nociones. "
      ]
    },
    {
      "cell_type": "markdown",
      "metadata": {
        "id": "MMTNRj-9O6qu"
      },
      "source": [
        "  "
      ]
    },
    {
      "cell_type": "markdown",
      "metadata": {
        "id": "tgim_YWfO6qv"
      },
      "source": [
        "**Desigualdad del triángulo.** Debido a que la distancia la definimos a partir de la norma entonces la distancia también está sujeta a cumplir la desigualdad del triángulo. Considemos entonces tres $n$-vectores $\\mathbf{a}$,$\\mathbf{b}$ y $\\mathbf{c}$ entonces tenemos\n",
        "\n",
        "$$\n",
        "||\\mathbf{a}-\\mathbf{c}|| = ||\\mathbf{a}-\\mathbf{b}+\\mathbf{b}-\\mathbf{c}|| \\le ||\\mathbf{a}-\\mathbf{b}|| + ||\\mathbf{b}-\\mathbf{c}||\n",
        "$$"
      ]
    },
    {
      "cell_type": "markdown",
      "metadata": {
        "id": "bJajcQ7iO6qw"
      },
      "source": [
        "Vamos a partir de los siguientes $2$-vectores:\n",
        "$$\n",
        "\\mathbf{a} = \\begin{bmatrix} 1\\\\ 1 \\end{bmatrix}, \\qquad \\mathbf{b} = \\begin{bmatrix} 2\\\\ 3 \\end{bmatrix}, \\qquad \\mathbf{c} = \\begin{bmatrix} 4\\\\ 2 \\end{bmatrix}\n",
        "$$"
      ]
    },
    {
      "cell_type": "markdown",
      "metadata": {
        "id": "OiAYqhmSO6q0"
      },
      "source": [
        "  "
      ]
    },
    {
      "cell_type": "code",
      "metadata": {
        "id": "zSjwBa2_x8o_",
        "outputId": "5dca43e8-a4df-4f2d-829a-21d97fc75bc3",
        "colab": {
          "base_uri": "https://localhost:8080/"
        }
      },
      "source": [
        "x1 = np.array([1,1])\n",
        "x2 = np.array([2,3])\n",
        "x3 = np.array([4,2])\n",
        "print('||x1 - x2|| = ', np.linalg.norm(x1-x2))\n",
        "print('||x1 -x2 + x2 -x3|| = ', np.linalg.norm(x1-x2+x2-x3))\n",
        "print('||x1 - x2|| + ||x2 - x3|| = ', np.linalg.norm(x1 - x2) + np.linalg.norm(x2 - x3))\n",
        "print('¿Se cumple que ||x1 - x2 + x2 -x3|| <= ||x1 - x2|| + ||x2 - x2||? ==> ',np.linalg.norm(x1-x2+x2-x3) <= np.linalg.norm(x1 - x2) + np.linalg.norm(x2 - x3))"
      ],
      "execution_count": 14,
      "outputs": [
        {
          "output_type": "stream",
          "text": [
            "||x1 - x2|| =  2.23606797749979\n",
            "||x1 -x2 + x2 -x3|| =  3.1622776601683795\n",
            "||x1 - x2|| + ||x2 - x3|| =  4.47213595499958\n",
            "¿Se cumple que ||x1 - x2 + x2 -x3|| <= ||x1 - x2|| + ||x2 - x2||? ==>  True\n"
          ],
          "name": "stdout"
        }
      ]
    },
    {
      "cell_type": "markdown",
      "metadata": {
        "id": "lnnvLeEoO6q1"
      },
      "source": [
        "## 8.3 Una aplicación"
      ]
    },
    {
      "cell_type": "markdown",
      "metadata": {
        "id": "EbI7831hO6q2"
      },
      "source": [
        "**Visita óptima de apartamentos para arrendar.** Supongamos que estamos en búsqueda de alquilar un apartamento. Comenzamos buscando caracacterísticas como cantidad de recámaras, cantidad de baños, estacionamientos, zona y tamaño. Un problema es que algunas veces llegamos a colectar una gran cantidad de anuncios y contactos y organizarnos para ir a las visitas puede parecer prácticamte imposible y puede que dejemos escapar una gran oportunidad. Afortunadamente en este curso vamos a proponer una solución: vamos a partir de nuestro departamento ideal y vamos a representarlo como un vector de caracteristicas, construimos el mismo vector para los apartamentos que ya tengamos localizados y calculamos la distancia entre estos vectores y el vector que representa al departamento ideal. Los ordenamos por de manera ascendente y ya tendríamos una lista ordenada en prioridad de contacto y visita de apartamentos según nuestro apartamento ideal. \n",
        "\n",
        "Para esto, supongamos que las características que queremos tomar en cuenta son tamaño del apartamento, número de recámaras, número de baños y número de estacionamientos. Notemos que en el caso de tamaño del apartamento regularmente se nos da en metros cuadrados (área) pero el gran problema es que puede variar mucho y usar estos números *tan grandes* puede introducir una gran cantidad de ruido. Para resolver el problema anterior vamos a catalogar los tamaños de apartametos en categorias:\n",
        "1. Si el área es menor que 60 metros cuadrados\n",
        "2. Si el área es mayor o igual que 60 metros cuadrados pero menor que 80 metros cuadrados\n",
        "3. Si el área es mayor o igual que 80 metros cuadrados pero menor que 110 metros cuadrados\n",
        "4. Si el área es mayor o igual que 110 metros cuadrados pero menor que 130 metros cuadrados\n",
        "5. Si el área es mayor o igual que 130 metros cuadrados. "
      ]
    },
    {
      "cell_type": "markdown",
      "metadata": {
        "id": "EYjju7NRO6q3"
      },
      "source": [
        "Supongamos también que el orden de las características en el vector es categoria de tamaño, número de recámaras, número de baños y número estacionamientos. Nuestro apartamento ideal viene dado por el siguiente vector:\n",
        "\n",
        "$$\n",
        "\\mathbf{I} = \\begin{bmatrix} 3\\\\ 2\\\\ 2\\\\1 \\end{bmatrix}\n",
        "$$\n",
        "\n",
        "Y nostros encontramos los siguientes apartamentos:\n",
        "\n",
        "$$\n",
        "\\mathbf{A_{1}} = \\begin{bmatrix}4 \\\\3 \\\\ 3\\\\3 \\end{bmatrix}, \\qquad \\mathbf{A_{2}} = \\begin{bmatrix}3 \\\\3 \\\\ 1\\\\0 \\end{bmatrix}, \\qquad \\mathbf{A_{3}} = \\begin{bmatrix}5 \\\\4 \\\\ 3\\\\0 \\end{bmatrix}\n",
        "$$"
      ]
    },
    {
      "cell_type": "code",
      "metadata": {
        "id": "oVJA54DOO6q4"
      },
      "source": [
        "I = np.array([3,2,2,1])\n",
        "A_1 = np.array([4,3,3,3])\n",
        "A_2 = np.array([3,3,2,1])\n",
        "A_3 = np.array([5,4,3,0])"
      ],
      "execution_count": 15,
      "outputs": []
    },
    {
      "cell_type": "code",
      "metadata": {
        "id": "B3BfMHR6O6q4",
        "outputId": "8323d3b0-7697-46f5-94cb-ff7234d00615",
        "colab": {
          "base_uri": "https://localhost:8080/"
        }
      },
      "source": [
        "print('||I-A_1|| =',np.linalg.norm(I-A_1))\n",
        "print('||I-A_2|| =',np.linalg.norm(I-A_2))\n",
        "print('||I-A_3|| =',np.linalg.norm(I-A_3))"
      ],
      "execution_count": 16,
      "outputs": [
        {
          "output_type": "stream",
          "text": [
            "||I-A_1|| = 2.6457513110645907\n",
            "||I-A_2|| = 1.0\n",
            "||I-A_3|| = 3.1622776601683795\n"
          ],
          "name": "stdout"
        }
      ]
    },
    {
      "cell_type": "markdown",
      "metadata": {
        "id": "2Pl6FlsaO6q5"
      },
      "source": [
        "Este problema es el problema de encontrar el vector más cercano. Básicamte si tenemos una colección de N $n$-vectores $z_{0},z_{1},\\dots,z_{N-1}$ vamos a decir que $z_{i}$ es el vecino más cercano del vector $x$ si \n",
        "\n",
        "$$\n",
        "||x-z_{i}|| \\le ||x - z_{j}|| \\quad con \\; \\; j = 0,\\dots, N-1\n",
        "$$"
      ]
    }
  ]
}