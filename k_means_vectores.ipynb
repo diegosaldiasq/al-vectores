{
  "nbformat": 4,
  "nbformat_minor": 0,
  "metadata": {
    "colab": {
      "name": "k-means_vectores.ipynb",
      "provenance": [],
      "authorship_tag": "ABX9TyOgdkA90v7zyVMwLntMFk3V",
      "include_colab_link": true
    },
    "kernelspec": {
      "name": "python3",
      "display_name": "Python 3"
    },
    "language_info": {
      "name": "python"
    }
  },
  "cells": [
    {
      "cell_type": "markdown",
      "metadata": {
        "id": "view-in-github",
        "colab_type": "text"
      },
      "source": [
        "<a href=\"https://colab.research.google.com/github/diegosaldiasq/al-vectores/blob/main/k_means_vectores.ipynb\" target=\"_parent\"><img src=\"https://colab.research.google.com/assets/colab-badge.svg\" alt=\"Open In Colab\"/></a>"
      ]
    },
    {
      "cell_type": "code",
      "metadata": {
        "id": "XIE-rDUtRZFe"
      },
      "source": [
        "import numpy as np\n",
        "import random\n",
        "import matplotlib.pyplot as plt\n",
        "\n",
        "#X = np.concatenate([[0.3*np.random.randn(2) for i in range(100)],\\\n",
        "#                    [[1,1] + 0.3*np.random.randn(2) for i in range(100)], \\\n",
        "#                    [[1,-1]+ 0.3* np.random.randn(2) for i in range(100)]])"
      ],
      "execution_count": 1,
      "outputs": []
    },
    {
      "cell_type": "code",
      "metadata": {
        "id": "eJpWXZ6uUqeC"
      },
      "source": [
        "class F_vector:\n",
        "\n",
        "  def __init__(self,x1,x2):\n",
        "    self.x1 = x1\n",
        "    self.x2 = x2\n",
        "    self.grupo = Grupo(0,0) #inicializa grupo en 0 --> clase Grupo\n",
        "    self.color = self.grupo.color\n",
        "\n",
        "  def medir_d_grupo(self, grupo):\n",
        "    distancias = {}\n",
        "    for i in range(grupo):\n",
        "      dx = self.x - i.x\n",
        "      dy = self.y - i.y\n",
        "      deucl = (dx**2 + dy**2)**0.5\n",
        "      distancias[deucl] = i #{distancia : grupo}\n",
        "    d_min = min(distancias)\n",
        "\n",
        "    self.grupo = distancias[d_min]\n",
        "\n",
        "class Grupo:\n",
        "\n",
        "  def __init__(self,x,y,nombre='sin asignar',color_grp='white'):\n",
        "    self.x = x\n",
        "    self.y = y\n",
        "    self.nombre = nombre\n",
        "    self.color = color_grp\n",
        "\n",
        "  def mover_grupo(self,nuevo_x,nuevo_y):\n",
        "    dx = self.x - nuevo_x\n",
        "    dy = self.y - nuevo_y\n",
        "    self.distancia_recorrida = (dx**2 + dy**2)**0.5\n",
        "    self.x = nuevo_x\n",
        "    self.y = nuevo_y\n",
        "  \n",
        "class Campo:\n",
        "\n",
        "  def __init__(self,ancho=2,alto=2):\n",
        "    self.ancho = ancho\n",
        "    self.alto = alto\n",
        "    self.fig,ax = plt.subplots(self.ancho,self.alto,figsize=(7,7),dpi=120)\n",
        "    self.vectores = []\n",
        "    self.grupos = []\n",
        "\n",
        "  def agregar_F_vector(self):\n",
        "    randx = np.rand(X[:,0])\n",
        "    randy = np.rand(X[:,1])\n",
        "    self.vectores.append(F_vector(randx,randy))\n",
        "    \n",
        "  def agregar_grupo(self):\n",
        "    randx = np.rand(X[:,0])\n",
        "    randy = np.rand(X[:,1])\n",
        "    self.grupos.append(Grupo(randx,randy,color_grp=random.choice(['red','blue','gray','yellow','purple','green','orange'])))\n",
        "\n",
        "  def mostrar_campo(self):\n",
        "    self.fig,ax = plt.subplots(1,1,figsize=(7,7),dpi=120)\n",
        "    for i in range(vectores):\n",
        "      "
      ],
      "execution_count": 2,
      "outputs": []
    }
  ]
}