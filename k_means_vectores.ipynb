{
  "nbformat": 4,
  "nbformat_minor": 0,
  "metadata": {
    "colab": {
      "name": "k-means_vectores.ipynb",
      "provenance": [],
      "authorship_tag": "ABX9TyMIo4eSyIJZ801E44EQReUZ",
      "include_colab_link": true
    },
    "kernelspec": {
      "name": "python3",
      "display_name": "Python 3"
    },
    "language_info": {
      "name": "python"
    }
  },
  "cells": [
    {
      "cell_type": "markdown",
      "metadata": {
        "id": "view-in-github",
        "colab_type": "text"
      },
      "source": [
        "<a href=\"https://colab.research.google.com/github/diegosaldiasq/al-vectores/blob/main/k_means_vectores.ipynb\" target=\"_parent\"><img src=\"https://colab.research.google.com/assets/colab-badge.svg\" alt=\"Open In Colab\"/></a>"
      ]
    },
    {
      "cell_type": "code",
      "metadata": {
        "id": "XIE-rDUtRZFe"
      },
      "source": [
        "import numpy as np\n",
        "import random\n",
        "import matplotlib.pyplot as plt\n",
        "\n",
        "X = np.concatenate([[0.3*np.random.randn(2) for i in range(100)],\\\n",
        "                    [[1,1] + 0.3*np.random.randn(2) for i in range(100)], \\\n",
        "                    [[1,-1]+ 0.3* np.random.randn(2) for i in range(100)]])"
      ],
      "execution_count": 1,
      "outputs": []
    },
    {
      "cell_type": "code",
      "metadata": {
        "id": "eJpWXZ6uUqeC"
      },
      "source": [
        "class F_vector:\n",
        "\n",
        "  def __init__(self,x1,x2):\n",
        "    self.x1 = x1\n",
        "    self.x2 = x2\n",
        "    self.grupo = Grupo(0,0) #inicializa grupo en 0 --> clase Grupo\n",
        "    self.color = self.grupo.color\n",
        "\n",
        "  def medir_d_grupo(self, grupo):\n",
        "    distancias = {}\n",
        "    for i in range(grupo):\n",
        "      dx = self.x - i.x\n",
        "      dy = self.y - i.y\n",
        "      deucl = (dx**2 + dy**2)**0.5\n",
        "      distancias[deucl] = i #{distancia : grupo}\n",
        "    d_min = min(distancias)\n",
        "\n",
        "    self.grupo = distancias[d_min]\n",
        "\n",
        "class Grupo:\n",
        "\n",
        "  def __init__(self,x,y,nombre='sin asignar',color_grp='#000000'):\n",
        "    self.x = x\n",
        "    self.y = y\n",
        "    self.nombre = nombre\n",
        "    self.color = color_grp\n",
        "\n",
        "  def mover_grupo(self,nuevo_x,nuevo_y):\n",
        "    dx = self.x - nuevo_x\n",
        "    dy = self.y - nuevo_y\n",
        "    self.distancia_recorrida = (dx**2 + dy**2)**0.5\n",
        "    self.x = nuevo_x\n",
        "    self.y = nuevo_y\n",
        "    "
      ],
      "execution_count": null,
      "outputs": []
    }
  ]
}