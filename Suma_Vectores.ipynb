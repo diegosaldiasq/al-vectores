{
  "nbformat": 4,
  "nbformat_minor": 0,
  "metadata": {
    "kernelspec": {
      "display_name": "Python 3",
      "language": "python",
      "name": "python3"
    },
    "language_info": {
      "codemirror_mode": {
        "name": "ipython",
        "version": 3
      },
      "file_extension": ".py",
      "mimetype": "text/x-python",
      "name": "python",
      "nbconvert_exporter": "python",
      "pygments_lexer": "ipython3",
      "version": "3.7.3"
    },
    "colab": {
      "name": "Suma_Vectores.ipynb",
      "provenance": [],
      "include_colab_link": true
    }
  },
  "cells": [
    {
      "cell_type": "markdown",
      "metadata": {
        "id": "view-in-github",
        "colab_type": "text"
      },
      "source": [
        "<a href=\"https://colab.research.google.com/github/diegosaldiasq/al-vectores/blob/main/Suma_Vectores.ipynb\" target=\"_parent\"><img src=\"https://colab.research.google.com/assets/colab-badge.svg\" alt=\"Open In Colab\"/></a>"
      ]
    },
    {
      "cell_type": "markdown",
      "metadata": {
        "id": "AT8IjH0Fdv7y"
      },
      "source": [
        "# 2. Adición entre vectores."
      ]
    },
    {
      "cell_type": "markdown",
      "metadata": {
        "id": "2BJ1vBeldv7_"
      },
      "source": [
        "La información de vectores de la **misma dimensión** se puede *juntar* sumando elemento a elemento sus entradas. A esta operación entre vectores se le conoce como suma y es denotada por el operador $+$."
      ]
    },
    {
      "cell_type": "markdown",
      "metadata": {
        "id": "WSC9JCKOdv8A"
      },
      "source": [
        "Así pues, sean $a,b,c$ $n$-vectores de $\\mathbb{R}^{n}$ donde $c=a+b$, la operación se ilustra como:\n",
        "\n",
        "$$\n",
        "c = a+b = \\begin{bmatrix}a_{0}\\\\ a_{1}\\\\\\vdots \\\\ a_{n-1}\\end{bmatrix} + \\begin{bmatrix}b_{0}\\\\ b_{1}\\\\\\vdots \\\\ b_{n-1}\\end{bmatrix} = \\begin{bmatrix}a_{0} + b_{0}\\\\ a_{1}+b_{1}\\\\\\vdots \\\\ a_{n-1}+b_{n-1}\\end{bmatrix} \n",
        "$$\n"
      ]
    },
    {
      "cell_type": "markdown",
      "metadata": {
        "id": "_8rcl7wNdv8A"
      },
      "source": [
        "Por ejemplo:\n",
        "$$\n",
        "\\begin{bmatrix} 0\\\\ 1\\\\ 2\\end{bmatrix} + \\begin{bmatrix}2\\\\ 3\\\\ -1\\end{bmatrix} = \\begin{bmatrix}0+2\\\\ 1+3 \\\\ 2-1\\end{bmatrix} = \\begin{bmatrix}2\\\\ 4 \\\\ 1\\end{bmatrix} \n",
        "$$\n",
        "Y también:\n",
        "$$\n",
        " \\left( 1 , 2 , 3 \\right) + \\left( -1 ,-2 , -3 \\right) = \\left( 1-1 , 2-2 , 3-3 \\right) = \\left( 0 , 0 , 0 \\right) = \\mathbf{0}\n",
        "$$"
      ]
    },
    {
      "cell_type": "markdown",
      "metadata": {
        "id": "H8rqvozjdv8B"
      },
      "source": [
        "## 2.1 Propiedades de la adición"
      ]
    },
    {
      "cell_type": "markdown",
      "metadata": {
        "id": "3Nu3l1bjdv8B"
      },
      "source": [
        "La suma entre vectores es llamada una *operación algebraíca* y esta cumple ciertas propiedades. Consideremos $\\displaystyle\\vec{a},\\displaystyle\\vec{b},\\displaystyle\\vec{c}$ vectores de $\\mathbb{R}^n$ entonces:\n",
        "\n",
        "* La suma de vectores es *conmutativa*: $\\vec{a}+\\vec{b} = \\vec{b}+\\vec{a}$\n",
        "\n",
        "* La suma de vectores es *asociativa*: $(\\vec{a}+\\vec{b})+\\vec{c} = \\vec{a}+(\\vec{b}+\\vec{c})$. Por esto último podemos escribir libremente $\\vec{a}+\\vec{b}+\\vec{c}$ ya que el resultado no cambiará según qué pareja de vectores sumemos primero. \n",
        "\n",
        "* La suma entre vectores, cuando uno es el vector cero, no surte algún efecto sobre el otro vector: $\\vec{a}+\\vec{0}=\\vec{0}+\\vec{a}=\\vec{a}$\n",
        "\n",
        "* Suma un vector con su inverso o lo que es lo mismo restar dos vectores iguales nos deja con el vector cero: $\\vec{a}-\\vec{a}=\\vec{0}$"
      ]
    },
    {
      "cell_type": "markdown",
      "metadata": {
        "id": "G4N6g03Vdv8C"
      },
      "source": [
        "**Advertencia:** No todas las operaciones son cerradas en su espacio vectorial."
      ]
    },
    {
      "cell_type": "markdown",
      "metadata": {
        "id": "_XaX_Ebpdv8C"
      },
      "source": [
        "## 2.2 Suma de vectores en Python"
      ]
    },
    {
      "cell_type": "markdown",
      "metadata": {
        "id": "8Wbh6Sy0dv8D"
      },
      "source": [
        "Vamos a rescatar el ejemplo de la clase pasada: el modelo aditivo RGB."
      ]
    },
    {
      "cell_type": "markdown",
      "metadata": {
        "id": "v27GX981dv8D"
      },
      "source": [
        "Sabemos que podemos representar los vectores como listas, por ejemplo, el negro y el rojo son:"
      ]
    },
    {
      "cell_type": "code",
      "metadata": {
        "id": "yaxn3gx-dv8E"
      },
      "source": [
        "rojo = [255,0,0]\n",
        "negro = [0,0,0]"
      ],
      "execution_count": null,
      "outputs": []
    },
    {
      "cell_type": "markdown",
      "metadata": {
        "id": "A012rLDCdv8E"
      },
      "source": [
        "El gran problema es que en Python el operador $+$ entre listas respresenta concatenación y no suma entrada a entrada:"
      ]
    },
    {
      "cell_type": "code",
      "metadata": {
        "id": "KCCvclDpdv8F",
        "outputId": "b42c256b-0739-4057-d799-08d9598cbde5"
      },
      "source": [
        "print('rojo + negro resulta en',rojo+negro)"
      ],
      "execution_count": null,
      "outputs": [
        {
          "output_type": "stream",
          "text": [
            "rojo + negro resulta en [255, 0, 0, 0, 0, 0]\n"
          ],
          "name": "stdout"
        }
      ]
    },
    {
      "cell_type": "markdown",
      "metadata": {
        "id": "4eeTKTxQdv8H"
      },
      "source": [
        "Una solución a esto es crear una función que tome dos listas y las sume entrada por entrada"
      ]
    },
    {
      "cell_type": "code",
      "metadata": {
        "id": "VvPT0tDPdv8H"
      },
      "source": [
        "def suma_vectores(a,b):\n",
        "    return [i+j for i,j in zip(a,b)]"
      ],
      "execution_count": null,
      "outputs": []
    },
    {
      "cell_type": "code",
      "metadata": {
        "id": "v_I9ydjwdv8I",
        "outputId": "7e99f554-46cc-460b-9345-d2dddaabbe5e"
      },
      "source": [
        "print('suma_vectores(rojo,negro) nos devuelve',suma_vectores(rojo,negro))"
      ],
      "execution_count": null,
      "outputs": [
        {
          "output_type": "stream",
          "text": [
            "suma_vectores(rojo,negro) nos devuelve [255, 0, 0]\n"
          ],
          "name": "stdout"
        }
      ]
    },
    {
      "cell_type": "code",
      "metadata": {
        "id": "Ya2a5ctLdv8J",
        "outputId": "39377da0-7049-4cf0-b0e4-c109e48f0725"
      },
      "source": [
        "print('suma_vectores(verde,negro) nos devuelve',suma_vectores([0,255,0],negro))"
      ],
      "execution_count": null,
      "outputs": [
        {
          "output_type": "stream",
          "text": [
            "suma_vectores(verde,negro) nos devuelve [0, 255, 0]\n"
          ],
          "name": "stdout"
        }
      ]
    },
    {
      "cell_type": "markdown",
      "metadata": {
        "id": "6ilFoAk6dv8K"
      },
      "source": [
        "Al parecer con esta función gran parte de nuestros problemas se resuelven sin embargo a largo plazo nos será más últil comenzar a usar **Numpy**.  \n",
        "\n",
        "**Numpy** es una biblioteca de Python que nos soporte para poder operar entre vectores y matrices. De igual manera contiene funciones matemáticas de alto nivel y que también podrán operar con los vectores y matrices. "
      ]
    },
    {
      "cell_type": "markdown",
      "metadata": {
        "id": "kJkef9Ogdv8L"
      },
      "source": [
        "Lo primero que tenemos que hacer es importar la biblioteca numpy"
      ]
    },
    {
      "cell_type": "code",
      "metadata": {
        "id": "ndnnpMwYdv8L"
      },
      "source": [
        "import numpy as np"
      ],
      "execution_count": null,
      "outputs": []
    },
    {
      "cell_type": "markdown",
      "metadata": {
        "id": "zg2YABgfdv8M"
      },
      "source": [
        "Después vamos a declarar nuestras listas ya creadas como *numpy.arrays*"
      ]
    },
    {
      "cell_type": "code",
      "metadata": {
        "id": "5a3fpVC2dv8M"
      },
      "source": [
        "rojo = np.array(rojo)\n",
        "negro = np.array(negro)"
      ],
      "execution_count": null,
      "outputs": []
    },
    {
      "cell_type": "markdown",
      "metadata": {
        "id": "gSPj84Lgdv8N"
      },
      "source": [
        "Si verificamos el tipo de la función entonces notaremos que es una instancia de *numpy.ndarray*"
      ]
    },
    {
      "cell_type": "code",
      "metadata": {
        "id": "C_ZdwP3gdv8N",
        "outputId": "dddd580b-94ec-4c1f-d758-b176063ee749"
      },
      "source": [
        "print(type(rojo))"
      ],
      "execution_count": null,
      "outputs": [
        {
          "output_type": "stream",
          "text": [
            "<class 'numpy.ndarray'>\n"
          ],
          "name": "stdout"
        }
      ]
    },
    {
      "cell_type": "markdown",
      "metadata": {
        "id": "LEk9vtwEdv8O"
      },
      "source": [
        "Finalmente, notemos que *rojo* y *negro* ya no son listas de Python sino instancias de numpy. Entre ndarrays el operador $+$ funcionará exactamente como se espera entre vectores, entrada a entrada:"
      ]
    },
    {
      "cell_type": "code",
      "metadata": {
        "id": "WYzs8XUYdv8O",
        "outputId": "0891e939-9356-443f-8865-8fcc57211a8c"
      },
      "source": [
        "print('La suma de los numpy array rojo + negro es', rojo+negro)"
      ],
      "execution_count": null,
      "outputs": [
        {
          "output_type": "stream",
          "text": [
            "La suma de los numpy array rojo + negro es [255   0   0]\n"
          ],
          "name": "stdout"
        }
      ]
    },
    {
      "cell_type": "markdown",
      "metadata": {
        "id": "6dUBtxkUdv8P"
      },
      "source": [
        "  "
      ]
    },
    {
      "cell_type": "markdown",
      "metadata": {
        "id": "3CmRyVQWdv8P"
      },
      "source": [
        "Por completez vamos a realizar un ejercicio más. \n",
        "\n",
        "Sean $\\mathbf{a}=(1,2,3,4,5)$, $\\mathbf{b} = (-1,-2,-3,-4,5)$ y $\\mathbf{c} = \\mathbf{a}+\\mathbf{b} = (0,0,0,0,10)$. Vamos a replicar este cálculo en Python con ayuda de numpy. "
      ]
    },
    {
      "cell_type": "code",
      "metadata": {
        "id": "x7PlCRpDdv8Q"
      },
      "source": [
        "a = np.array([1,2,3,4,5]) #declaramos el arreglo/vector a\n",
        "\n",
        "b = np.array([-1,-2,-3,-4,5]) #declaramos el arreglo/vector b"
      ],
      "execution_count": null,
      "outputs": []
    },
    {
      "cell_type": "code",
      "metadata": {
        "id": "wc4Thj_udv8Q"
      },
      "source": [
        "c = a+b"
      ],
      "execution_count": null,
      "outputs": []
    },
    {
      "cell_type": "code",
      "metadata": {
        "id": "jRzBCMe-dv8R",
        "outputId": "2637cffd-3958-4a48-f11d-d71eb4b41c2d"
      },
      "source": [
        "print('La el vector c = a+b =',c)"
      ],
      "execution_count": null,
      "outputs": [
        {
          "output_type": "stream",
          "text": [
            "La el vector c = a+b = [ 0  0  0  0 10]\n"
          ],
          "name": "stdout"
        }
      ]
    },
    {
      "cell_type": "markdown",
      "metadata": {
        "id": "bZDKYa92dv8R"
      },
      "source": [
        "  "
      ]
    },
    {
      "cell_type": "markdown",
      "metadata": {
        "id": "MvQ98sxedv8S"
      },
      "source": [
        "**Problema:**\n",
        "\n",
        "Puedes ir al sitio [siguiente sitio](https://www.w3schools.com/colors/colors_rgb.asp), el sitio te permite introducir un vector del modelo RGB y te muestra el color al que corresponde.  \n",
        "\n",
        "Ahora, primer confirma a qué color corresponden el vector $\\vec{a} = [0,0,255]$ y así responde:\n",
        "* ¿Qué color obtienes si sumas $\\vec{rojo}+\\vec{verde}+\\vec{a}$? \n",
        "* ¿Qué color obtienes sumando $\\vec{rojo}+\\vec{verde}$?\n",
        "* ¿Qué color obtienes sumando $\\vec{negro}-\\vec{a}$? ¿Tiene sentido este resultado dentro del modelo aditivo RGB?"
      ]
    }
  ]
}