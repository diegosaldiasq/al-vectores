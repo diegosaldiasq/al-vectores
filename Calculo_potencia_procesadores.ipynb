{
  "nbformat": 4,
  "nbformat_minor": 0,
  "metadata": {
    "colab": {
      "name": "Calculo_potencia_procesadores.ipynb",
      "provenance": [],
      "authorship_tag": "ABX9TyPT1SxffNbZgy54JbtHhk4S",
      "include_colab_link": true
    },
    "kernelspec": {
      "name": "python3",
      "display_name": "Python 3"
    },
    "language_info": {
      "name": "python"
    }
  },
  "cells": [
    {
      "cell_type": "markdown",
      "metadata": {
        "id": "view-in-github",
        "colab_type": "text"
      },
      "source": [
        "<a href=\"https://colab.research.google.com/github/diegosaldiasq/al-vectores/blob/main/Calculo_potencia_procesadores.ipynb\" target=\"_parent\"><img src=\"https://colab.research.google.com/assets/colab-badge.svg\" alt=\"Open In Colab\"/></a>"
      ]
    },
    {
      "cell_type": "code",
      "metadata": {
        "colab": {
          "base_uri": "https://localhost:8080/"
        },
        "id": "foHyGlsiZwDa",
        "outputId": "16fa102e-3ae1-456f-ce70-4434e23e5c44"
      },
      "source": [
        "import numpy as np\n",
        "from sklearn.linear_model import LinearRegression\n",
        "\n",
        "def datos_experimentales():\n",
        "\n",
        "  p_1 = np.array([10,10,10]) #en reposo\n",
        "  p_2 = np.array([100,10,10])\n",
        "  p_3 = np.array([10,100,10])\n",
        "  p_4 = np.array([10,10,100])\n",
        "\n",
        "  p = np.array([p_1,p_2,p_3,p_4])\n",
        "  t = np.array([35,60,75,65])\n",
        "\n",
        "  return p, t\n",
        "\n",
        "def solucion_metodo1(): #resolvemos el sistema de ecuaciones\n",
        "  \n",
        "  ecuacion1 = \"10*a0+10*a1+10*a2+b=35\"\n",
        "  ecuacion2 = \"100*a0+10*a1+10*a2+b=60\"\n",
        "  ecuacion3 = \"10*a0+100*a1+10*a2+b=75\"\n",
        "  ecuacion4 = \"10*a0+10*a1+100*a2+b=65\"\n",
        "\n",
        "  p = np.array([[10,10,10,1],[100,10,10,1],[10,100,10,1],[10,10,100,1]])\n",
        "  t = np.array([35,60,75,65])\n",
        "\n",
        "  a = np.linalg.solve(p,t)\n",
        "\n",
        "  return a\n",
        "\n",
        "def solucion_metodo2():\n",
        "  \n",
        "  p, t = datos_experimentales()\n",
        "\n",
        "  A = np.column_stack([p,np.ones(len(p))])\n",
        "  coef = np.linalg.lstsq(A,t,rcond=-1)[0]\n",
        "  ai = coef[:3]\n",
        "  cof = coef[3:]\n",
        "\n",
        "  return ai, cof\n",
        "\n",
        "def solucion_metodo3():\n",
        "\n",
        "  model = LinearRegression()\n",
        "\n",
        "  p, t = datos_experimentales()\n",
        "\n",
        "  model.fit(X=p, y=t)\n",
        "\n",
        "  print(\"Coef: \", *model.coef_)\n",
        "  print(\"Intercept: \", model.intercept_)\n",
        "\n",
        "\n",
        "def run():\n",
        "  #print(\"********metodo1, resolvinedo el sistema de ecuaciones*******\")\n",
        "  #print(solucion_metodo1())\n",
        "  print(\"********metodo2, usando minimos cuadrados, numpy.linalg.lstsq*******\")\n",
        "  print(solucion_metodo2())\n",
        "  #print(\"********metodo3, regresion lineal con sklearn.linear_model*******\")\n",
        "  #solucion_metodo3()\n",
        "\n",
        "def T(P):\n",
        "  a, b = solucion_metodo2()\n",
        "  return a.T@P + b\n",
        "\n",
        "#REVISAR ESTA ECUACION VECTORIAL --> no funciona es no lineal ¿?\n",
        "def P(t_p):\n",
        "  a, b = solucion_metodo2()\n",
        "  return (t_p - b)/a.T\n",
        "\n",
        "if __name__ == \"__main__\":\n",
        "  run()\n",
        "  #temp = T([34.88,55.8,41.85])\n",
        "  #print(temp)\n",
        "  #pot = P(150)\n",
        "  #print(pot)\n",
        "\n",
        "  tol = 0.01\n",
        "  min = 100\n",
        "  max = 150\n",
        "\n",
        "  P = np.array([min,min,min])\n",
        "\n",
        "  while abs(T(P) - 149.9999) > tol:\n",
        "    avg = (min+max)/2\n",
        "    P = np.array([round(avg,3),round(avg,3),round(avg,3)])\n",
        "    if T(P) > 149.9999:\n",
        "      max = avg\n",
        "    else:\n",
        "      min = avg\n",
        "    print(f'\\nT({P}) = {T(P)}')\n"
      ],
      "execution_count": 9,
      "outputs": [
        {
          "output_type": "stream",
          "text": [
            "********metodo2, usando minimos cuadrados, numpy.linalg.lstsq*******\n",
            "(array([0.27777778, 0.44444444, 0.33333333]), array([24.44444444]))\n",
            "\n",
            "T([125. 125. 125.]) = [156.38888889]\n",
            "\n",
            "T([112.5 112.5 112.5]) = [143.19444444]\n",
            "\n",
            "T([118.75 118.75 118.75]) = [149.79166667]\n",
            "\n",
            "T([121.875 121.875 121.875]) = [153.09027778]\n",
            "\n",
            "T([120.312 120.312 120.312]) = [151.44044444]\n",
            "\n",
            "T([119.531 119.531 119.531]) = [150.61605556]\n",
            "\n",
            "T([119.141 119.141 119.141]) = [150.20438889]\n",
            "\n",
            "T([118.945 118.945 118.945]) = [149.9975]\n"
          ],
          "name": "stdout"
        }
      ]
    }
  ]
}